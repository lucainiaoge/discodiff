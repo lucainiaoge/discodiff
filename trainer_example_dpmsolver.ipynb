{
 "cells": [
  {
   "cell_type": "code",
   "execution_count": 1,
   "id": "34aa6ceb-55a7-478c-b595-333cc6de62b0",
   "metadata": {},
   "outputs": [],
   "source": [
    "import sys\n",
    "sys.path.append(\"config\")\n",
    "# exec(f\"from configs_default import config\")\n",
    "exec(f\"from configs_debug import config\")"
   ]
  },
  {
   "cell_type": "code",
   "execution_count": 2,
   "id": "6e0bc8bc-2dfc-4f21-b9ec-816608abf299",
   "metadata": {
    "scrolled": true
   },
   "outputs": [
    {
     "data": {
      "text/plain": [
       "{'num_train_timesteps': 1000,\n",
       " 'num_inference_timesteps': 50,\n",
       " 'prediction_type': 'v_prediction',\n",
       " 'cfg_drop_prob': 0.25,\n",
       " 'cfg_scale': 7.5,\n",
       " 'cfg_rescale': 0.1,\n",
       " 'train_text_clap_load_prob': 0.5,\n",
       " 'train_dataset_size': 800,\n",
       " 'train_batch_size': 16,\n",
       " 'val_dataset_size': 4,\n",
       " 'val_batch_size': 4,\n",
       " 'ema_decay': 0.995,\n",
       " 'learning_rate': 5e-05,\n",
       " 'lr_warmup_steps': 100,\n",
       " 'checkpoint_every': 400,\n",
       " 'demo_every': 100,\n",
       " 'max_epochs': 50,\n",
       " 'train_primary_prob': 0.5,\n",
       " 'load_audio_clap_prob': 0.5,\n",
       " 'clap_cond_drop_prob': 0.5,\n",
       " 't5_cond_drop_prob': 0.1,\n",
       " 'key_cond_drop_prob': 0.4,\n",
       " 'sample_size': 256,\n",
       " 'in_channels_primary': 8,\n",
       " 'in_channels_secondary': 72,\n",
       " 'out_channels_primary': 8,\n",
       " 'out_channels_secondary': 64,\n",
       " 'down_block_types': ('CrossAttnDownBlock1D',\n",
       "  'AttnDownBlock1D',\n",
       "  'CrossAttnDownBlock1D',\n",
       "  'ResnetDownsampleBlock1D'),\n",
       " 'mid_block_type': 'UNetMidBlock1DCrossAttn',\n",
       " 'up_block_types': ('ResnetUpsampleBlock1D',\n",
       "  'CrossAttnUpBlock1D',\n",
       "  'AttnUpBlock1D',\n",
       "  'CrossAttnUpBlock1D'),\n",
       " 'block_out_channels': (64, 64, 128, 256),\n",
       " 'layers_per_block': 2,\n",
       " 'num_class_embeds': 25,\n",
       " 'class_embeddings_concat': False,\n",
       " 'encoder_hid_dim': 512,\n",
       " 'time_embedding_dim': 512,\n",
       " 't5_model_name': 'google/flan-t5-small'}"
      ]
     },
     "execution_count": 2,
     "metadata": {},
     "output_type": "execute_result"
    }
   ],
   "source": [
    "config"
   ]
  },
  {
   "cell_type": "code",
   "execution_count": null,
   "id": "20758b21-1eca-40eb-93ac-eacf96a7ebdb",
   "metadata": {},
   "outputs": [],
   "source": []
  },
  {
   "cell_type": "code",
   "execution_count": 12,
   "id": "834b6078-8f31-47bc-93f4-d7609a15e6a1",
   "metadata": {},
   "outputs": [],
   "source": [
    "# TODO: \n",
    "# 0. re-test mnist_dpmsolver with additive class emb - done\n",
    "# 1. implement vall-e pipeline - done\n",
    "# 2. write the pl_module for training\n",
    "# - in train.py, save the modified config (maybe modified through args like train_primary_prob) to the output dir; (let user specify config) - done\n",
    "# - finish the train.py (instance creation, validation configs, wandb settings) - done\n",
    "# - debug training loop and validation loop - done\n",
    "# 3. run overfit test with debug config - done\n",
    "# - debug sampling loop: write test script and load overfitted model - done\n",
    "# - deal with primary-gt secondary-only sampling bug - done\n",
    "# 4. run small dataset training with default config\n",
    "# - output to log instead of terminal"
   ]
  },
  {
   "cell_type": "code",
   "execution_count": null,
   "id": "54b631d6-369d-4e5b-a94c-29a094a8b8fb",
   "metadata": {},
   "outputs": [],
   "source": [
    "python train.py \\\n",
    "-config-path config/configs_debug.py \\\n",
    "-trainset-dir data/example_h5_files \\\n",
    "-valset-dir data/example_h5_files \\\n",
    "--name 20241024_debug3 \\\n",
    "--num-gpus 1 \\\n",
    "--load-ckpt-path results/20241024_debug2/epoch=1423-step=71200.ckpt \\\n",
    "--wandb-key 2b65835eaa1c518d6810a245502bd7b55e7edbcc\n",
    "\n",
    "\n",
    "python train.py \\\n",
    "-config-path config/configs_debug.py \\\n",
    "-trainset-dir data/example_h5_files \\\n",
    "-valset-dir data/example_h5_files \\\n",
    "--name 20241025_debug2 \\\n",
    "--num-gpus 1 \\\n",
    "--load-ckpt-path results/20241025_debug/epoch=0767-step=192000.ckpt \\\n",
    "--wandb-key 2b65835eaa1c518d6810a245502bd7b55e7edbcc\n",
    "\n",
    "python train.py \\\n",
    "-config-path config/configs_default.py \\\n",
    "-trainset-dir data/example_h5_files \\\n",
    "-valset-dir data/example_h5_files \\\n",
    "--name 20241026_train_default \\\n",
    "--load-ckpt-path results/20241025_train_default/epoch=0004-step=16000.ckpt \\\n",
    "--num-gpus 1 \\\n",
    "--train-batch-size 16 \\\n",
    "--wandb-key 2b65835eaa1c518d6810a245502bd7b55e7edbcc"
   ]
  },
  {
   "cell_type": "code",
   "execution_count": 1,
   "id": "734c385c-d853-4352-b452-9feea86dc42d",
   "metadata": {},
   "outputs": [
    {
     "name": "stdout",
     "output_type": "stream",
     "text": [
      "Reading dac h5 file metadata...\n",
      "Num files: 7\n"
     ]
    },
    {
     "name": "stderr",
     "output_type": "stream",
     "text": [
      "FutureWarning:\n",
      "    `clean_up_tokenization_spaces` was not set. It will be set to `True` by default. This behavior will be deprecated in transformers v4.45, and will be then set to `False` by default. For more details check this issue: https://github.com/huggingface/transformers/issues/31884\n",
      "UserWarning:\n",
      "    torch.nn.utils.weight_norm is deprecated in favor of torch.nn.utils.parametrizations.weight_norm.\n"
     ]
    }
   ],
   "source": [
    "import dac\n",
    "import torch\n",
    "import matplotlib.pyplot as plt\n",
    "\n",
    "from data.h5_dataset import DacEncodecClapDatasetH5\n",
    "\n",
    "h5_dir = \"data/example_h5_files\"\n",
    "dac_frame_len = 256\n",
    "dataset = DacEncodecClapDatasetH5(\n",
    "    h5_dir=h5_dir,\n",
    "    dac_frame_len=dac_frame_len,\n",
    ")\n",
    "chunk_data = dataset[0]\n",
    "batch_dac_latents = torch.tensor(chunk_data[\"dac_latents\"]).unsqueeze(0)#.to(\"cuda\")\n",
    "\n",
    "with torch.no_grad():\n",
    "    dac_model_path = dac.utils.download(model_type=\"44khz\")\n",
    "    dac_model = dac.DAC.load(dac_model_path)#.to(\"cuda\")\n",
    "    z = dac_model.quantizer.from_latents(batch_dac_latents)[0] # [B, D, L]\n",
    "    sampled_audios_reconstructed = dac_model.decode(z) # [B, T]\n",
    "\n"
   ]
  },
  {
   "cell_type": "code",
   "execution_count": 2,
   "id": "b97dcc78-61d2-4ce7-931e-ba58c8721988",
   "metadata": {},
   "outputs": [
    {
     "name": "stdout",
     "output_type": "stream",
     "text": [
      "torch.Size([1, 1, 131072])\n"
     ]
    }
   ],
   "source": [
    "print(sampled_audios_reconstructed.shape)"
   ]
  }
 ],
 "metadata": {
  "kernelspec": {
   "display_name": "Python 3 (ipykernel)",
   "language": "python",
   "name": "python3"
  },
  "language_info": {
   "codemirror_mode": {
    "name": "ipython",
    "version": 3
   },
   "file_extension": ".py",
   "mimetype": "text/x-python",
   "name": "python",
   "nbconvert_exporter": "python",
   "pygments_lexer": "ipython3",
   "version": "3.11.8"
  }
 },
 "nbformat": 4,
 "nbformat_minor": 5
}
